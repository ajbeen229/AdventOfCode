{
 "cells": [
  {
   "cell_type": "markdown",
   "id": "d688257c-d900-4074-86c0-18745c84a3d7",
   "metadata": {},
   "source": [
    "# Day 3: Perfectly Spherical Houses in a Vacuum\n",
    "\n",
    "---\n",
    "\n",
    "Santa is delivering presents to an infinite two-dimensional grid of houses.\n",
    "\n",
    "He begins by delivering a present to the house at his starting location, and then an elf at the North Pole calls him via radio and tells him where to move next. Moves are always exactly one house to the north (^), south (v), east (>), or west (<). After each move, he delivers another present to the house at his new location.\n",
    "\n",
    "However, the elf back at the north pole has had a little too much eggnog, and so his directions are a little off, and Santa ends up visiting some houses more than once. How many houses receive at least one present?\n",
    "\n",
    "For example:\n",
    "\n",
    "> `>` delivers presents to 2 houses: one at the starting location, and one to the east.  \n",
    "> `^>v<` delivers presents to 4 houses in a square, including twice to the house at his starting/ending location.  \n",
    "> `^v^v^v^v^v` delivers a bunch of presents to some very lucky children at only 2 houses."
   ]
  },
  {
   "cell_type": "code",
   "execution_count": 63,
   "id": "4452c3f6-a36c-4ac5-a31c-dae9fdf84255",
   "metadata": {},
   "outputs": [],
   "source": [
    "def getPuzzleInput():\n",
    "    with open('day3Input.txt') as fileInput:\n",
    "        return fileInput.read()\n"
   ]
  },
  {
   "cell_type": "code",
   "execution_count": 86,
   "id": "4a39cca0-5f46-42c7-ad6f-79cb9dfcb433",
   "metadata": {},
   "outputs": [
    {
     "name": "stdout",
     "output_type": "stream",
     "text": [
      "2081\n"
     ]
    }
   ],
   "source": [
    "puzzleInput = getPuzzleInput()\n",
    "houseArray = [[0,0]]\n",
    "currentPos = [0,0]\n",
    "\n",
    "for char in puzzleInput:\n",
    "    match char:\n",
    "        case '^':\n",
    "            currentPos[1] = currentPos[1] + 1\n",
    "            \n",
    "        case '>':\n",
    "            currentPos[0] = currentPos[0] + 1\n",
    "            \n",
    "        case 'v':\n",
    "            currentPos[1] = currentPos[1] - 1\n",
    "            \n",
    "        case '<':\n",
    "            currentPos[0] = currentPos[0] - 1\n",
    "\n",
    "    newPos = currentPos.copy()\n",
    "    if newPos not in houseArray:\n",
    "        houseArray.append(newPos)\n",
    "    \n",
    "print(len(houseArray))"
   ]
  },
  {
   "cell_type": "markdown",
   "id": "9661afe4-6e74-4682-ab9f-51bd6f2d6efd",
   "metadata": {},
   "source": [
    "## Part Two\n",
    "\n",
    "---\n",
    "\n",
    "The next year, to speed up the process, Santa creates a robot version of himself, Robo-Santa, to deliver presents with him.\n",
    "\n",
    "Santa and Robo-Santa start at the same location (delivering two presents to the same starting house), then take turns moving based on instructions from the elf, who is eggnoggedly reading from the same script as the previous year.\n",
    "\n",
    "This year, how many houses receive at least one present?\n",
    "\n",
    "For example:\n",
    "\n",
    "> `^v` delivers presents to 3 houses, because Santa goes north, and then Robo-Santa goes south.  \n",
    "> `^>v<` now delivers presents to 3 houses, and Santa and Robo-Santa end up back where they started.  \n",
    "> `^v^v^v^v^v` now delivers presents to 11 houses, with Santa going one direction and Robo-Santa going the other."
   ]
  },
  {
   "cell_type": "code",
   "execution_count": 131,
   "id": "bb7636eb-b24f-4240-a590-1226f6a1dd9c",
   "metadata": {},
   "outputs": [
    {
     "name": "stdout",
     "output_type": "stream",
     "text": [
      "2341\n"
     ]
    }
   ],
   "source": [
    "puzzleInput = getPuzzleInput()\n",
    "houseArray = [[0,0]]\n",
    "santaPos = [0,0]\n",
    "roboPos = [0,0]\n",
    "turn = 0\n",
    "\n",
    "for char in puzzleInput:\n",
    "    match char:\n",
    "        case '^':\n",
    "            if turn % 2 == 0:\n",
    "                santaPos[1] = santaPos[1] + 1\n",
    "            else:\n",
    "                roboPos[1] = roboPos[1] + 1\n",
    "            \n",
    "        case '>':\n",
    "            if turn % 2 == 0:\n",
    "                santaPos[0] = santaPos[0] + 1\n",
    "            else:\n",
    "                roboPos[0] = roboPos[0] + 1\n",
    "            \n",
    "        case 'v':\n",
    "            if turn % 2 == 0:\n",
    "                santaPos[1] = santaPos[1] - 1\n",
    "            else:\n",
    "                roboPos[1] = roboPos[1] - 1\n",
    "            \n",
    "        case '<':\n",
    "            if turn % 2 == 0:\n",
    "                santaPos[0] = santaPos[0] - 1\n",
    "            else:\n",
    "                roboPos[0] = roboPos[0] - 1\n",
    "\n",
    "    newPos = santaPos.copy() if turn % 2 == 0 else roboPos.copy()\n",
    "    if newPos not in houseArray:\n",
    "        houseArray.append(newPos)\n",
    "    \n",
    "    turn += 1\n",
    "    \n",
    "print(len(houseArray))"
   ]
  }
 ],
 "metadata": {
  "kernelspec": {
   "display_name": "Python 3 (ipykernel)",
   "language": "python",
   "name": "python3"
  },
  "language_info": {
   "codemirror_mode": {
    "name": "ipython",
    "version": 3
   },
   "file_extension": ".py",
   "mimetype": "text/x-python",
   "name": "python",
   "nbconvert_exporter": "python",
   "pygments_lexer": "ipython3",
   "version": "3.12.4"
  }
 },
 "nbformat": 4,
 "nbformat_minor": 5
}
