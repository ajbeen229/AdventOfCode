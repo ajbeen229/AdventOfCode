{
 "cells": [
  {
   "cell_type": "markdown",
   "id": "65338d1c",
   "metadata": {},
   "source": [
    "# Part 1"
   ]
  },
  {
   "cell_type": "code",
   "execution_count": 4,
   "id": "4452c3f6-a36c-4ac5-a31c-dae9fdf84255",
   "metadata": {},
   "outputs": [],
   "source": [
    "def getPuzzleInput():\n",
    "    with open('day3Input.txt') as fileInput:\n",
    "        return fileInput.read()"
   ]
  },
  {
   "cell_type": "code",
   "execution_count": 24,
   "id": "4a39cca0-5f46-42c7-ad6f-79cb9dfcb433",
   "metadata": {},
   "outputs": [
    {
     "name": "stdout",
     "output_type": "stream",
     "text": [
      "2081\n"
     ]
    }
   ],
   "source": [
    "puzzleInput = getPuzzleInput()\n",
    "houseArray = [[0,0]]\n",
    "currentPos = [0,0]\n",
    "\n",
    "for char in puzzleInput:\n",
    "    match char:\n",
    "        case '^':\n",
    "            currentPos[1] = currentPos[1] + 1\n",
    "            \n",
    "        case '>':\n",
    "            currentPos[0] = currentPos[0] + 1\n",
    "            \n",
    "        case 'v':\n",
    "            currentPos[1] = currentPos[1] - 1\n",
    "            \n",
    "        case '<':\n",
    "            currentPos[0] = currentPos[0] - 1\n",
    "\n",
    "    newPos = currentPos.copy()\n",
    "    if newPos not in houseArray:\n",
    "        houseArray.append(newPos)\n",
    "    \n",
    "print(len(houseArray))"
   ]
  },
  {
   "cell_type": "markdown",
   "id": "4aeb5486-ddcf-4866-a36b-014a7ea23931",
   "metadata": {},
   "source": [
    "### Optimized Code"
   ]
  },
  {
   "cell_type": "code",
   "execution_count": 27,
   "id": "d97e3ced-62de-4978-a513-21caf89e5049",
   "metadata": {},
   "outputs": [
    {
     "name": "stdout",
     "output_type": "stream",
     "text": [
      "2081\n"
     ]
    }
   ],
   "source": [
    "puzzleInput = getPuzzleInput()\n",
    "houseArray = [[0,0]]\n",
    "currentPos = [0,0]\n",
    "\n",
    "for char in puzzleInput:\n",
    "    map = {\n",
    "        '^': [0,1],\n",
    "        '>': [1,0],\n",
    "        'v': [0,-1],\n",
    "        '<': [-1,0]\n",
    "    }\n",
    "\n",
    "    move = map[char]\n",
    "\n",
    "    currentPos = [current + new for current, new in zip(currentPos, move)]\n",
    "\n",
    "    newPos = currentPos.copy()\n",
    "    if newPos not in houseArray:\n",
    "        houseArray.append(newPos)\n",
    "    \n",
    "print(len(houseArray))"
   ]
  },
  {
   "cell_type": "markdown",
   "id": "84c769fd",
   "metadata": {},
   "source": [
    "# Part 2"
   ]
  },
  {
   "cell_type": "code",
   "execution_count": 131,
   "id": "bb7636eb-b24f-4240-a590-1226f6a1dd9c",
   "metadata": {},
   "outputs": [
    {
     "name": "stdout",
     "output_type": "stream",
     "text": [
      "2341\n"
     ]
    }
   ],
   "source": [
    "puzzleInput = getPuzzleInput()\n",
    "houseArray = [[0,0]]\n",
    "santaPos = [0,0]\n",
    "roboPos = [0,0]\n",
    "turn = 0\n",
    "\n",
    "for char in puzzleInput:\n",
    "    match char:\n",
    "        case '^':\n",
    "            if turn % 2 == 0:\n",
    "                santaPos[1] = santaPos[1] + 1\n",
    "            else:\n",
    "                roboPos[1] = roboPos[1] + 1\n",
    "            \n",
    "        case '>':\n",
    "            if turn % 2 == 0:\n",
    "                santaPos[0] = santaPos[0] + 1\n",
    "            else:\n",
    "                roboPos[0] = roboPos[0] + 1\n",
    "            \n",
    "        case 'v':\n",
    "            if turn % 2 == 0:\n",
    "                santaPos[1] = santaPos[1] - 1\n",
    "            else:\n",
    "                roboPos[1] = roboPos[1] - 1\n",
    "            \n",
    "        case '<':\n",
    "            if turn % 2 == 0:\n",
    "                santaPos[0] = santaPos[0] - 1\n",
    "            else:\n",
    "                roboPos[0] = roboPos[0] - 1\n",
    "\n",
    "    newPos = santaPos.copy() if turn % 2 == 0 else roboPos.copy()\n",
    "    if newPos not in houseArray:\n",
    "        houseArray.append(newPos)\n",
    "    \n",
    "    turn += 1\n",
    "    \n",
    "print(len(houseArray))"
   ]
  }
 ],
 "metadata": {
  "kernelspec": {
   "display_name": "Python 3 (ipykernel)",
   "language": "python",
   "name": "python3"
  },
  "language_info": {
   "codemirror_mode": {
    "name": "ipython",
    "version": 3
   },
   "file_extension": ".py",
   "mimetype": "text/x-python",
   "name": "python",
   "nbconvert_exporter": "python",
   "pygments_lexer": "ipython3",
   "version": "3.12.4"
  }
 },
 "nbformat": 4,
 "nbformat_minor": 5
}
