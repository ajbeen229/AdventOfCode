{
 "cells": [
  {
   "cell_type": "markdown",
   "id": "45a24b59",
   "metadata": {},
   "source": [
    "# Part 1"
   ]
  },
  {
   "cell_type": "code",
   "execution_count": null,
   "id": "636144cb-029e-4424-b2cb-d3411101cc4c",
   "metadata": {},
   "outputs": [],
   "source": [
    "def getPuzzleInput():\n",
    "    with open('day5Input.txt') as file:\n",
    "        return file.read()"
   ]
  },
  {
   "cell_type": "code",
   "execution_count": 108,
   "id": "3d18570a-aa04-4a6f-adf0-ca5ec4768efe",
   "metadata": {},
   "outputs": [
    {
     "name": "stdout",
     "output_type": "stream",
     "text": [
      "0\n"
     ]
    }
   ],
   "source": [
    "puzzleInput = getPuzzleInput().split('\\n')\n",
    "nice = 0\n",
    "\n",
    "def check1(string):\n",
    "    vowels = ['a', 'e', 'i', 'o', 'u']\n",
    "    count = 0\n",
    "    for char in string:\n",
    "        if char in vowels:\n",
    "            count += 1\n",
    "    return count >= 3\n",
    "\n",
    "\n",
    "def check2(string):\n",
    "    for i in range(len(string) - 1):\n",
    "        if string[i] == string[i+1]:\n",
    "            return True\n",
    "    return False\n",
    "\n",
    "\n",
    "def check3(string):\n",
    "    subs = ['ab', 'cd', 'pq', 'xy']\n",
    "    for sub in subs:\n",
    "        if sub in string:\n",
    "            return False\n",
    "    return True\n",
    "\n",
    "\n",
    "for string in puzzleInput:\n",
    "    if check1(string) and check2(string) and check3(string):\n",
    "        nice += 1\n",
    "\n",
    "print(nice)"
   ]
  },
  {
   "cell_type": "markdown",
   "id": "031aff2d-7d77-4fb0-850b-cc78a3b1f8f9",
   "metadata": {},
   "source": [
    "# Part 2"
   ]
  },
  {
   "cell_type": "code",
   "execution_count": 156,
   "id": "bd78c6c1-0ca3-405a-9ba6-797f7c33d440",
   "metadata": {},
   "outputs": [
    {
     "name": "stdout",
     "output_type": "stream",
     "text": [
      "55\n"
     ]
    }
   ],
   "source": [
    "puzzleInput = getPuzzleInput().split('\\n')\n",
    "nice = 0\n",
    "\n",
    "def newCheck1(string):\n",
    "    for i in range(1, len(string) - 1):\n",
    "        pair = string[i-1] + string[i]\n",
    "        if pair in string[i+1:]:\n",
    "            return True\n",
    "    return False\n",
    "    \n",
    "\n",
    "def newCheck2(string):\n",
    "    for i in range(len(string) - 2):\n",
    "        if string[i] == string[i+2]:\n",
    "            return True\n",
    "    return False\n",
    "\n",
    "\n",
    "for string in puzzleInput:\n",
    "    if newCheck1(string) and newCheck2(string):\n",
    "        #print(string)\n",
    "        nice += 1\n",
    "    #input()\n",
    "print(nice)"
   ]
  }
 ],
 "metadata": {
  "kernelspec": {
   "display_name": "Python 3 (ipykernel)",
   "language": "python",
   "name": "python3"
  },
  "language_info": {
   "codemirror_mode": {
    "name": "ipython",
    "version": 3
   },
   "file_extension": ".py",
   "mimetype": "text/x-python",
   "name": "python",
   "nbconvert_exporter": "python",
   "pygments_lexer": "ipython3",
   "version": "3.12.4"
  }
 },
 "nbformat": 4,
 "nbformat_minor": 5
}
