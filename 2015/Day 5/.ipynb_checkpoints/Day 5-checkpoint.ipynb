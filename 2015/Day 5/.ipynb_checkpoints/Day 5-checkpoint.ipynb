{
 "cells": [
  {
   "cell_type": "markdown",
   "id": "175e1c9d-6654-4626-9b98-ba5f385b4b35",
   "metadata": {},
   "source": [
    "# Day 5: Doesn't He Have Intern-Elves For This?\n",
    "\n",
    "---\n",
    "\n",
    "Santa needs help figuring out which strings in his text file are naughty or nice.\n",
    "\n",
    "A nice string is one with all of the following properties:\n",
    "\n",
    "* It contains at least three vowels (aeiou only), like aei, xazegov, or aeiouaeiouaeiou.\n",
    "* It contains at least one letter that appears twice in a row, like xx, abcdde (dd), or aabbccdd (aa, bb, cc, or dd).\n",
    "* It does not contain the strings ab, cd, pq, or xy, even if they are part of one of the other requirements.\n",
    "\n",
    "For example:\n",
    "\n",
    "* `ugknbfddgicrmopn` is nice because it has at least three vowels (u...i...o...), a double letter (...dd...), and none of the disallowed substrings.\n",
    "* `aaa` is nice because it has at least three vowels and a double letter, even though the letters used by different rules overlap.\n",
    "* `jchzalrnumimnmhp` is naughty because it has no double letter.\n",
    "* `haegwjzuvuyypxyu` is naughty because it contains the string xy.\n",
    "* `dvszwmarrgswjxmb` is naughty because it contains only one vowel.\n",
    "\n",
    "**How many strings are nice?**"
   ]
  },
  {
   "cell_type": "code",
   "execution_count": 72,
   "id": "636144cb-029e-4424-b2cb-d3411101cc4c",
   "metadata": {},
   "outputs": [],
   "source": [
    "\n",
    "\n",
    "def getPuzzleInput():\n",
    "    with open('day5Input.txt') as file:\n",
    "        return file.read()"
   ]
  },
  {
   "cell_type": "code",
   "execution_count": 108,
   "id": "3d18570a-aa04-4a6f-adf0-ca5ec4768efe",
   "metadata": {},
   "outputs": [
    {
     "name": "stdout",
     "output_type": "stream",
     "text": [
      "0\n"
     ]
    }
   ],
   "source": [
    "puzzleInput = getPuzzleInput().split('\\n')\n",
    "nice = 0\n",
    "\n",
    "def check1(string):\n",
    "    vowels = ['a', 'e', 'i', 'o', 'u']\n",
    "    count = 0\n",
    "    for char in string:\n",
    "        if char in vowels:\n",
    "            count += 1\n",
    "    return count >= 3\n",
    "\n",
    "\n",
    "def check2(string):\n",
    "    for i in range(len(string) - 1):\n",
    "        if string[i] == string[i+1]:\n",
    "            return True\n",
    "    return False\n",
    "\n",
    "\n",
    "def check3(string):\n",
    "    subs = ['ab', 'cd', 'pq', 'xy']\n",
    "    for sub in subs:\n",
    "        if sub in string:\n",
    "            return False\n",
    "    return True\n",
    "\n",
    "\n",
    "for string in puzzleInput:\n",
    "    if check1(string) and check2(string) and check3(string):\n",
    "        nice += 1\n",
    "\n",
    "print(nice)"
   ]
  },
  {
   "cell_type": "markdown",
   "id": "031aff2d-7d77-4fb0-850b-cc78a3b1f8f9",
   "metadata": {},
   "source": [
    "# Part Two \n",
    "\n",
    "---\n",
    "\n",
    "Realizing the error of his ways, Santa has switched to a better model of determining whether a string is naughty or nice. None of the old rules apply, as they are all clearly ridiculous.\n",
    "\n",
    "Now, a nice string is one with all of the following properties:\n",
    "\n",
    "* It contains a pair of any two letters that appears at least twice in the string without overlapping, like xyxy (xy) or aabcdefgaa (aa), but not like aaa (aa, but it overlaps).  \n",
    "* It contains at least one letter which repeats with exactly one letter between them, like xyx, abcdefeghi (efe), or even aaa.\n",
    "\n",
    "For example:\n",
    "\n",
    "* `qjhvhtzxzqqjkmpb` is nice because is has a pair that appears twice (qj) and a letter that repeats with exactly one letter between them (zxz).  \n",
    "* `xxyxx` is nice because it has a pair that appears twice and a letter that repeats with one between, even though the letters used by each rule overlap.  \n",
    "* `uurcxstgmygtbstg` is naughty because it has a pair (tg) but no repeat with a single letter between them.  \n",
    "* `ieodomkazucvgmuy` is naughty because it has a repeating letter with one between (odo), but no pair that appears twice.\n",
    "\n",
    "**How many strings are nice under these new rules?**"
   ]
  },
  {
   "cell_type": "code",
   "execution_count": 144,
   "id": "bd78c6c1-0ca3-405a-9ba6-797f7c33d440",
   "metadata": {},
   "outputs": [
    {
     "name": "stdout",
     "output_type": "stream",
     "text": [
      "['qjhvhtzxzqqjkmpb', 'xxyxx', 'uurcxstgmygtbstg', 'ieodomkazucvgmuy', 'aaa', 'aaewaa']\n",
      "2\n"
     ]
    }
   ],
   "source": [
    "puzzleInput = getPuzzleInput().split('\\n')\n",
    "nice = 0\n",
    "\n",
    "def newCheck1(string):\n",
    "    pairs = {}\n",
    "    for i in range(len(string) - 1):\n",
    "        pair = string[i] + string[i+1]\n",
    "        # if there is another matching pair and the previous pair doesn't match (no overlap)\n",
    "        if pair in pairs.values() and pairs[len(pairs) - 1] != pair:\n",
    "            return True\n",
    "        else:\n",
    "            pairs[i] = pair\n",
    "    \n",
    "    return False\n",
    "    \n",
    "\n",
    "\n",
    "def newCheck2(string):\n",
    "    for i in range(len(string) - 2):\n",
    "        #print(string[i], string[i+2])\n",
    "        if string[i] == string[i+2]:\n",
    "            return True\n",
    "    return False\n",
    "\n",
    "\n",
    "for string in puzzleInput:\n",
    "    if newCheck1(string) and newCheck2(string):\n",
    "        #print(string)\n",
    "        nice += 1\n",
    "    #input()\n",
    "print(nice)"
   ]
  }
 ],
 "metadata": {
  "kernelspec": {
   "display_name": "Python 3 (ipykernel)",
   "language": "python",
   "name": "python3"
  },
  "language_info": {
   "codemirror_mode": {
    "name": "ipython",
    "version": 3
   },
   "file_extension": ".py",
   "mimetype": "text/x-python",
   "name": "python",
   "nbconvert_exporter": "python",
   "pygments_lexer": "ipython3",
   "version": "3.12.4"
  }
 },
 "nbformat": 4,
 "nbformat_minor": 5
}
