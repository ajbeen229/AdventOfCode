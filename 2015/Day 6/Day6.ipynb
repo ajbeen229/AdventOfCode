{
 "cells": [
  {
   "cell_type": "markdown",
   "id": "28122dea-414f-4d58-b43c-91f9213799c0",
   "metadata": {},
   "source": [
    "# Part 1"
   ]
  },
  {
   "cell_type": "code",
   "execution_count": 6,
   "id": "738b7af0-286c-4640-a838-1df942d00eed",
   "metadata": {},
   "outputs": [],
   "source": [
    "def getPuzzleInput():\n",
    "    with open('day6.txt') as file:\n",
    "        return file.read()"
   ]
  },
  {
   "cell_type": "code",
   "execution_count": 52,
   "id": "9a942fc4-c0a2-496f-90ee-fe4393b47d54",
   "metadata": {},
   "outputs": [
    {
     "name": "stdout",
     "output_type": "stream",
     "text": [
      "543903.0\n"
     ]
    }
   ],
   "source": [
    "import numpy\n",
    "import re\n",
    "\n",
    "puzzleInput = getPuzzleInput().split(\"\\n\")\n",
    "\n",
    "lights = numpy.zeros((1000,1000))\n",
    "\n",
    "for line in puzzleInput:\n",
    "\n",
    "    # searches for the instruction\n",
    "    findIns = re.match('(turn on|toggle|turn off)', line).group()\n",
    "    \n",
    "    # searches for and captures the numbers in individual groups\n",
    "    findInts = re.match('.+ (\\\\d+),(\\\\d+) through (\\\\d+),(\\\\d+)', line).groups()\n",
    "\n",
    "    # the captures can now be used and assigned\n",
    "    x1, y1, x2, y2 = [int(group) for group in findInts]\n",
    "\n",
    "    match findIns:\n",
    "        case 'turn on':\n",
    "            for i in range(x1, x2 + 1):\n",
    "                for j in range(y1, y2 + 1):\n",
    "                    lights[i][j] = 1\n",
    "\n",
    "        case 'turn off':\n",
    "            for i in range(x1, x2 + 1):\n",
    "                for j in range(y1, y2 + 1):\n",
    "                    lights[i][j] = 0\n",
    "\n",
    "        case 'toggle':\n",
    "            for i in range(x1, x2 + 1):\n",
    "                for j in range(y1, y2 + 1):\n",
    "                    lights[i][j] = int(not lights[i][j])\n",
    "\n",
    "s = 0\n",
    "for i in lights:\n",
    "    s += sum(i)\n",
    "\n",
    "print(s)\n",
    "        "
   ]
  },
  {
   "cell_type": "markdown",
   "id": "2b6c5660-1f14-4a97-8637-de4455ceda73",
   "metadata": {},
   "source": [
    "# Part 2"
   ]
  },
  {
   "cell_type": "code",
   "execution_count": 62,
   "id": "050905b9-a33a-4808-afaf-d05882b79da3",
   "metadata": {},
   "outputs": [
    {
     "name": "stdout",
     "output_type": "stream",
     "text": [
      "14687245.0\n"
     ]
    }
   ],
   "source": [
    "puzzleInput = getPuzzleInput().split(\"\\n\")\n",
    "\n",
    "lights = numpy.zeros((1000,1000))\n",
    "\n",
    "for line in puzzleInput:\n",
    "\n",
    "    # searches for the instruction\n",
    "    findIns = re.match('(turn on|toggle|turn off)', line).group()\n",
    "    \n",
    "    # searches for and captures the numbers in individual groups\n",
    "    findInts = re.match('.+ (\\\\d+),(\\\\d+) through (\\\\d+),(\\\\d+)', line).groups()\n",
    "\n",
    "    # the captures can now be used and assigned\n",
    "    x1, y1, x2, y2 = [int(group) for group in findInts]\n",
    "\n",
    "    match findIns:\n",
    "        case 'turn on':\n",
    "            for i in range(x1, x2 + 1):\n",
    "                for j in range(y1, y2 + 1):\n",
    "                    lights[i][j] += 1\n",
    "\n",
    "        case 'turn off':\n",
    "            for i in range(x1, x2 + 1):\n",
    "                for j in range(y1, y2 + 1):\n",
    "                    lights[i][j] -= 1 if lights[i][j] > 0 else 0\n",
    "\n",
    "        case 'toggle':\n",
    "            for i in range(x1, x2 + 1):\n",
    "                for j in range(y1, y2 + 1):\n",
    "                    lights[i][j] += 2\n",
    "\n",
    "s = 0\n",
    "for i in lights:\n",
    "    s += sum(i)\n",
    "\n",
    "print(s)"
   ]
  }
 ],
 "metadata": {
  "kernelspec": {
   "display_name": "Python 3 (ipykernel)",
   "language": "python",
   "name": "python3"
  },
  "language_info": {
   "codemirror_mode": {
    "name": "ipython",
    "version": 3
   },
   "file_extension": ".py",
   "mimetype": "text/x-python",
   "name": "python",
   "nbconvert_exporter": "python",
   "pygments_lexer": "ipython3",
   "version": "3.12.4"
  }
 },
 "nbformat": 4,
 "nbformat_minor": 5
}
