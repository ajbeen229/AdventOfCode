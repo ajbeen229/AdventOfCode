{
 "cells": [
  {
   "cell_type": "markdown",
   "id": "28122dea-414f-4d58-b43c-91f9213799c0",
   "metadata": {},
   "source": [
    "# Day 6: Probably a Fire Hazard\n",
    "\n",
    "---\n",
    "\n",
    "Because your neighbors keep defeating you in the holiday house decorating contest year after year, you've decided to deploy one million lights in a 1000x1000 grid.\n",
    "\n",
    "Furthermore, because you've been especially nice this year, Santa has mailed you instructions on how to display the ideal lighting configuration.\n",
    "\n",
    "Lights in your grid are numbered from 0 to 999 in each direction; the lights at each corner are at `0,0`, `0,999`, `999,999`, and `999,0`. The instructions include whether to turn on, turn off, or toggle various inclusive ranges given as coordinate pairs. Each coordinate pair represents opposite corners of a rectangle, inclusive; a coordinate pair like `0,0` through `2,2` therefore refers to 9 lights in a 3x3 square. The lights all start turned off.\n",
    "\n",
    "To defeat your neighbors this year, all you have to do is set up your lights by doing the instructions Santa sent you in order.\n",
    "\n",
    "For example:\n",
    "\n",
    "* `turn on 0,0 through 999,999` would turn on (or leave on) every light.\n",
    "* `toggle 0,0 through 999,0` would toggle the first line of 1000 lights, turning off the ones that were on, and turning on the ones that were off.\n",
    "* `turn off 499,499 through 500,500` would turn off (or leave off) the middle four lights.\n",
    "\n",
    "After following the instructions, **how many lights are lit**?"
   ]
  },
  {
   "cell_type": "code",
   "execution_count": 6,
   "id": "738b7af0-286c-4640-a838-1df942d00eed",
   "metadata": {},
   "outputs": [],
   "source": [
    "def getPuzzleInput():\n",
    "    with open('day6.txt') as file:\n",
    "        return file.read()"
   ]
  },
  {
   "cell_type": "code",
   "execution_count": 44,
   "id": "9a942fc4-c0a2-496f-90ee-fe4393b47d54",
   "metadata": {},
   "outputs": [
    {
     "name": "stdout",
     "output_type": "stream",
     "text": [
      "543903.0\n"
     ]
    }
   ],
   "source": [
    "import numpy\n",
    "import re\n",
    "\n",
    "puzzleInput = getPuzzleInput().split(\"\\n\")\n",
    "\n",
    "lights = numpy.zeros((1000,1000))\n",
    "\n",
    "for line in puzzleInput:\n",
    "\n",
    "    # searches for the instruction\n",
    "    findIns = re.match('(turn on|toggle|turn off)', line).group()\n",
    "    \n",
    "    # searches for and captures the numbers in individual groups\n",
    "    findInts = re.match('.+ (\\\\d+),(\\\\d+) through (\\\\d+),(\\\\d+)', line).groups()\n",
    "\n",
    "    # the captures can now be used and assigned\n",
    "    x1, y1, x2, y2 = [int(group) for group in findInts]\n",
    "\n",
    "    match findIns:\n",
    "        case 'turn on':\n",
    "            for i in range(x1, x2 + 1):\n",
    "                for j in range(y1, y2 + 1):\n",
    "                    lights[i][j] = 1\n",
    "\n",
    "        case 'turn off':\n",
    "            for i in range(x1, x2 + 1):\n",
    "                for j in range(y1, y2 + 1):\n",
    "                    lights[i][j] = 0\n",
    "\n",
    "        case 'toggle':\n",
    "            for i in range(x1, x2 + 1):\n",
    "                for j in range(y1, y2 + 1):\n",
    "                    lights[i][j] = int(not lights[i][j])\n",
    "\n",
    "s = 0\n",
    "for i in lights:\n",
    "    s += sum(i)\n",
    "\n",
    "print(s)\n",
    "        "
   ]
  },
  {
   "cell_type": "markdown",
   "id": "ebd6ad07-7826-4eeb-a152-9392ebaa3adb",
   "metadata": {},
   "source": [
    "# Part Two \n",
    "\n",
    "---\n",
    "\r\n",
    "You just finish implementing your winning light pattern when you realize you mistranslated Santa's message from Ancient Nordic Elvish.\r\n",
    "\r\n",
    "The light grid you bought actually has individual brightness controls; each light can have a brightness of zero or more. The lights all start at zero.\r\n",
    "\r\n",
    "The ph**rase tu**rn on actually means that you should increase the brightness of those lights by 1.\r\n",
    "\r\n",
    "The **phrase t**urn off actually means that you should decrease the brightness of those lights by 1, to a minimum of zero.\r\n",
    "\r\n",
    "Th**e phra**se toggle actually means that you should increase the brightness of those lights by 2.\r\n",
    "\r\n",
    "W**hat is the total** brightness of all lights combined after following Santa's instructions?\r\n",
    "\r\n",
    "F`or example:\r\n",
    "\r\n",
    "turn on `0,0 through 0,0 would increase the total br`ightness by 1.\r\n",
    "toggle 0,0` through 999,999 would increase the total brightness by 2000000."
   ]
  }
 ],
 "metadata": {
  "kernelspec": {
   "display_name": "Python 3 (ipykernel)",
   "language": "python",
   "name": "python3"
  },
  "language_info": {
   "codemirror_mode": {
    "name": "ipython",
    "version": 3
   },
   "file_extension": ".py",
   "mimetype": "text/x-python",
   "name": "python",
   "nbconvert_exporter": "python",
   "pygments_lexer": "ipython3",
   "version": "3.12.4"
  }
 },
 "nbformat": 4,
 "nbformat_minor": 5
}
