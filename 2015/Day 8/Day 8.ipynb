{
 "cells": [
  {
   "cell_type": "markdown",
   "metadata": {},
   "source": [
    "# Part 1"
   ]
  },
  {
   "cell_type": "code",
   "execution_count": 2,
   "metadata": {},
   "outputs": [],
   "source": [
    "def getPuzzleInput():\n",
    "    with open('Day 8.txt') as file:\n",
    "        return file.read()"
   ]
  },
  {
   "cell_type": "code",
   "execution_count": 92,
   "metadata": {},
   "outputs": [
    {
     "name": "stdout",
     "output_type": "stream",
     "text": [
      "1350\n"
     ]
    }
   ],
   "source": [
    "from re import match\n",
    "\n",
    "puzzleInput = getPuzzleInput().split(\"\\n\")\n",
    "\n",
    "literals = 0\n",
    "memory = 0\n",
    "\n",
    "for line in puzzleInput:\n",
    "\n",
    "    memoryLine = len(line) - 2\n",
    "\n",
    "    i = -1\n",
    "    # walrus!\n",
    "    while (i := i + 1) < len(line):\n",
    "        try:\n",
    "            # double backslash or backslash quote\n",
    "            if line[i:i+2] == \"\\\\\\\\\" or line[i:i+2] == \"\\\\\\\"\":\n",
    "                memoryLine -= 1\n",
    "                i += 1 # manually increment the loop to skip over escaped characters\n",
    "\n",
    "            # hex notation\n",
    "            elif match(r'\\\\x[A-Fa-f0-9]{2}', line[i:i+4]):\n",
    "                memoryLine -= 3\n",
    "                i += 3 # manually increment the loop to skip over escaped characters\n",
    "\n",
    "        except Exception as e:\n",
    "            # ignore the attempt if near the end, most likely out of range\n",
    "            print(e)\n",
    "            break\n",
    "\n",
    "    \n",
    "    literals += len(line)\n",
    "    memory += memoryLine\n",
    "\n",
    "print(literals - memory)"
   ]
  },
  {
   "cell_type": "markdown",
   "metadata": {},
   "source": [
    "# Part 2\n",
    "> Unfinished"
   ]
  },
  {
   "cell_type": "code",
   "execution_count": null,
   "metadata": {},
   "outputs": [],
   "source": [
    "from re import match\n",
    "\n",
    "puzzleInput = getPuzzleInput().split(\"\\n\")\n",
    "\n",
    "literals = 0\n",
    "memory = 0\n",
    "\n",
    "for line in puzzleInput:\n",
    "\n",
    "    memoryLine = len(line) - 2\n",
    "\n",
    "    i = -1\n",
    "    # walrus!\n",
    "    while (i := i + 1) < len(line):\n",
    "        try:\n",
    "            # double backslash or backslash quote\n",
    "            if line[i:i+2] == \"\\\\\\\\\" or line[i:i+2] == \"\\\\\\\"\":\n",
    "                memoryLine += 1\n",
    "                i += 1 # manually increment the loop to skip over escaped characters\n",
    "\n",
    "            # hex notation\n",
    "            elif match(r'\\\\x[A-Fa-f0-9]{2}', line[i:i+4]):\n",
    "                memoryLine -= 3\n",
    "                i += 3 # manually increment the loop to skip over escaped characters\n",
    "\n",
    "        except Exception as e:\n",
    "            # ignore the attempt if near the end, most likely out of range\n",
    "            print(e)\n",
    "            break\n",
    "\n",
    "    \n",
    "    literals += len(line)\n",
    "    memory += memoryLine\n",
    "\n",
    "print(literals - memory)"
   ]
  }
 ],
 "metadata": {
  "kernelspec": {
   "display_name": "base",
   "language": "python",
   "name": "python3"
  },
  "language_info": {
   "codemirror_mode": {
    "name": "ipython",
    "version": 3
   },
   "file_extension": ".py",
   "mimetype": "text/x-python",
   "name": "python",
   "nbconvert_exporter": "python",
   "pygments_lexer": "ipython3",
   "version": "3.12.4"
  }
 },
 "nbformat": 4,
 "nbformat_minor": 2
}
