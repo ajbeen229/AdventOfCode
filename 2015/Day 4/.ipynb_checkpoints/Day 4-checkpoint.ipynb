{
 "cells": [
  {
   "cell_type": "markdown",
   "id": "004fee2c-174c-41aa-a194-8c803bd7c287",
   "metadata": {},
   "source": [
    "# Day 4: The Ideal Stocking Stuffer\n",
    "\n",
    "---\n",
    "\n",
    "Santa needs help mining some AdventCoins (very similar to bitcoins) to use as gifts for all the economically forward-thinking little girls and boys.\n",
    "\n",
    "To do this, he needs to find MD5 hashes which, in hexadecimal, start with at least five zeroes. The input to the MD5 hash is some secret key (your puzzle input, given below) followed by a number in decimal. To mine AdventCoins, you must find Santa the lowest positive number (no leading zeroes: 1, 2, 3, ...) that produces such a hash.\n",
    "\n",
    "For example:\n",
    "\n",
    "* If your secret key is `abcdef`, the answer is 609043, because the MD5 hash of `abcdef609043` starts with five zeroes (000001dbbfa...), and it is the lowest such number to do so.\n",
    "* If your secret key is `pqrstuv`, the lowest number it combines with to make an MD5 hash starting with five zeroes is `1048970`; that is, the MD5 hash of `pqrstuv1048970` looks like `000006136ef....`"
   ]
  },
  {
   "cell_type": "code",
   "execution_count": 20,
   "id": "f1ba2afc-71d8-4c21-8991-15903d88515c",
   "metadata": {},
   "outputs": [
    {
     "name": "stdout",
     "output_type": "stream",
     "text": [
      "254575\n"
     ]
    }
   ],
   "source": [
    "key = \"bgvyzdsv\"\n",
    "n = 1\n",
    "\n",
    "# (hash := md5((key + n).encode()).hexdigest()\n",
    "\n",
    "while True:\n",
    "    hash = md5((key+str(n)).encode())\n",
    "    hex = hash.hexdigest()\n",
    "\n",
    "    if hex.startswith(\"00000\"):\n",
    "        break\n",
    "\n",
    "    n += 1\n",
    "\n",
    "print(n)"
   ]
  },
  {
   "cell_type": "markdown",
   "id": "6ea6c821-7cb5-421a-9da8-20a29c36e9e4",
   "metadata": {},
   "source": [
    "Now find one that starts with six zeroes."
   ]
  },
  {
   "cell_type": "code",
   "execution_count": 24,
   "id": "e9660950-1d30-4de9-8c2a-0fbd95d963fe",
   "metadata": {},
   "outputs": [
    {
     "name": "stdout",
     "output_type": "stream",
     "text": [
      "1038736\n"
     ]
    }
   ],
   "source": [
    "key = \"bgvyzdsv\"\n",
    "n = 1\n",
    "\n",
    "# (hash := md5((key + n).encode()).hexdigest()\n",
    "\n",
    "while True:\n",
    "    hash = md5((key+str(n)).encode())\n",
    "    hex = hash.hexdigest()\n",
    "\n",
    "    if hex.startswith(\"000000\"):\n",
    "        break\n",
    "\n",
    "    n += 1\n",
    "\n",
    "print(n)"
   ]
  }
 ],
 "metadata": {
  "kernelspec": {
   "display_name": "Python 3 (ipykernel)",
   "language": "python",
   "name": "python3"
  },
  "language_info": {
   "codemirror_mode": {
    "name": "ipython",
    "version": 3
   },
   "file_extension": ".py",
   "mimetype": "text/x-python",
   "name": "python",
   "nbconvert_exporter": "python",
   "pygments_lexer": "ipython3",
   "version": "3.12.4"
  }
 },
 "nbformat": 4,
 "nbformat_minor": 5
}
