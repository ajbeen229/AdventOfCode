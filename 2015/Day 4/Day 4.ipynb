{
 "cells": [
  {
   "cell_type": "markdown",
   "id": "0b230483",
   "metadata": {},
   "source": [
    "# Part 1"
   ]
  },
  {
   "cell_type": "code",
   "execution_count": 20,
   "id": "f1ba2afc-71d8-4c21-8991-15903d88515c",
   "metadata": {},
   "outputs": [
    {
     "name": "stdout",
     "output_type": "stream",
     "text": [
      "254575\n"
     ]
    }
   ],
   "source": [
    "key = \"bgvyzdsv\"\n",
    "n = 1\n",
    "\n",
    "# (hash := md5((key + n).encode()).hexdigest()\n",
    "\n",
    "while True:\n",
    "    hash = md5((key+str(n)).encode())\n",
    "    hex = hash.hexdigest()\n",
    "\n",
    "    if hex.startswith(\"00000\"):\n",
    "        break\n",
    "\n",
    "    n += 1\n",
    "\n",
    "print(n)"
   ]
  },
  {
   "cell_type": "markdown",
   "id": "b9430478",
   "metadata": {},
   "source": [
    "# Part 2"
   ]
  },
  {
   "cell_type": "code",
   "execution_count": null,
   "id": "e9660950-1d30-4de9-8c2a-0fbd95d963fe",
   "metadata": {},
   "outputs": [
    {
     "name": "stdout",
     "output_type": "stream",
     "text": [
      "1038736\n"
     ]
    }
   ],
   "source": [
    "key = \"bgvyzdsv\"\n",
    "n = 1\n",
    "\n",
    "# (hash := md5((key + n).encode()).hexdigest()\n",
    "\n",
    "while True:\n",
    "    hash = md5((key+str(n)).encode())\n",
    "    hex = hash.hexdigest()\n",
    "\n",
    "    if hex.startswith(\"000000\"):\n",
    "        break\n",
    "\n",
    "    n += 1\n",
    "\n",
    "print(n)"
   ]
  }
 ],
 "metadata": {
  "kernelspec": {
   "display_name": "Python 3 (ipykernel)",
   "language": "python",
   "name": "python3"
  },
  "language_info": {
   "codemirror_mode": {
    "name": "ipython",
    "version": 3
   },
   "file_extension": ".py",
   "mimetype": "text/x-python",
   "name": "python",
   "nbconvert_exporter": "python",
   "pygments_lexer": "ipython3",
   "version": "3.12.4"
  }
 },
 "nbformat": 4,
 "nbformat_minor": 5
}
