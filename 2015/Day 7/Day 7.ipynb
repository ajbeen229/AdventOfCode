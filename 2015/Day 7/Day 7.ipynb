{
 "cells": [
  {
   "cell_type": "markdown",
   "id": "38e43a6c-2cda-42f6-b964-f4515bea3f0c",
   "metadata": {},
   "source": [
    "# Part 1\n",
    "> Unfinished"
   ]
  },
  {
   "cell_type": "code",
   "execution_count": 4,
   "id": "7af71e31-e5d5-4d1a-b50a-b1f8bdee2f6b",
   "metadata": {},
   "outputs": [],
   "source": [
    "def getPuzzleInput():\n",
    "    with open('Day 7.txt') as file:\n",
    "        return file.read()"
   ]
  },
  {
   "cell_type": "code",
   "execution_count": 6,
   "id": "5c6019b6-93a9-4091-b130-5de796f17d04",
   "metadata": {},
   "outputs": [
    {
     "name": "stdout",
     "output_type": "stream",
     "text": [
      "NOT ac ad\n",
      "NOT ag ah\n",
      "NOT ak al\n",
      "NOT ax ay\n",
      "NOT bb bc\n",
      "NOT bf bg\n",
      "NOT bs bt\n",
      "NOT bw bx\n",
      "NOT ca cb\n",
      "NOT cn co\n",
      "NOT cr cs\n",
      "NOT cv cw\n",
      "NOT di dj\n",
      "NOT dm dn\n",
      "NOT dq dr\n",
      "NOT ed ee\n",
      "NOT eh ei\n",
      "NOT el em\n",
      "NOT ey ez\n",
      "NOT fc fd\n",
      "NOT fg fh\n",
      "NOT ft fu\n",
      "NOT fx fy\n",
      "NOT gb gc\n",
      "NOT go gp\n",
      "NOT gs gt\n",
      "NOT gw gx\n",
      "NOT h i\n",
      "NOT hj hk\n",
      "NOT hn ho\n",
      "NOT hr hs\n",
      "NOT ie if\n",
      "NOT ii ij\n",
      "NOT im in\n",
      "NOT iz ja\n",
      "NOT jd je\n",
      "NOT jh ji\n",
      "NOT ju jv\n",
      "NOT jy jz\n",
      "NOT kc kd\n",
      "NOT kp kq\n",
      "NOT kt ku\n",
      "NOT kx ky\n",
      "NOT l m\n",
      "NOT lk ll\n",
      "NOT lo lp\n",
      "NOT ls lt\n",
      "NOT p q\n",
      "{'c': '0', 'b': '14146', 'a': 'lx'}\n"
     ]
    }
   ],
   "source": [
    "from numpy import uint16\n",
    "\n",
    "puzzleInput = getPuzzleInput().split(\"\\n\")\n",
    "\n",
    "puzzleInput.sort()\n",
    "# print(puzzleInput)\n",
    "\n",
    "def findKey(obj, key):\n",
    "    if key in obj: return key\n",
    "    for k, v in obj.items():\n",
    "        if isinstance(v, dict):\n",
    "            return findKey(v, key)\n",
    "\n",
    "\n",
    "circuit = {}\n",
    "\n",
    "for line in puzzleInput:\n",
    "    lineLen = len(line.split(' '))\n",
    "    \n",
    "    match lineLen:\n",
    "        # 3 operators such as '123 -> x'\n",
    "        case 3:\n",
    "            value, _, wire = line.split(' ')\n",
    "            \n",
    "\n",
    "        # 4 operators such as 'NOT x -> y`\n",
    "        case 4:\n",
    "            op, wire1, _, wire2 = line.split(' ')\n",
    "            print(op, wire1, wire2)\n",
    "            \n",
    "\n",
    "        # 5 operators such as 'x AND y -> z'\n",
    "        case 5:\n",
    "            # op2 is either a third wire, as in the case above, or a shift value\n",
    "            wire1, op, op2, _, wire3 = line.split(' ')\n",
    "            # print(wire1, op, op2, wire3)\n",
    "    \n",
    "\n",
    "print(circuit)"
   ]
  }
 ],
 "metadata": {
  "kernelspec": {
   "display_name": "Python 3 (ipykernel)",
   "language": "python",
   "name": "python3"
  },
  "language_info": {
   "codemirror_mode": {
    "name": "ipython",
    "version": 3
   },
   "file_extension": ".py",
   "mimetype": "text/x-python",
   "name": "python",
   "nbconvert_exporter": "python",
   "pygments_lexer": "ipython3",
   "version": "3.12.4"
  }
 },
 "nbformat": 4,
 "nbformat_minor": 5
}
