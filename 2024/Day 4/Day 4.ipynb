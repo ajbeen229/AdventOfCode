{
 "cells": [
  {
   "cell_type": "markdown",
   "id": "d9bc3f9f-cba7-4931-8e12-afcf530d4a81",
   "metadata": {},
   "source": [
    "# Part 1"
   ]
  },
  {
   "cell_type": "code",
   "execution_count": 2,
   "id": "2f06b981-b46b-4bce-8137-dff699d5316d",
   "metadata": {},
   "outputs": [],
   "source": [
    "def getPuzzleInput():\n",
    "    with open('Day 4.txt') as file:\n",
    "        return file.read()"
   ]
  },
  {
   "cell_type": "code",
   "execution_count": 3,
   "id": "2df9cba3-7658-406e-a88a-c0b0db9b2f1a",
   "metadata": {},
   "outputs": [
    {
     "name": "stdout",
     "output_type": "stream",
     "text": [
      "2427\n"
     ]
    }
   ],
   "source": [
    "# turn the puzzle input into 2D array\n",
    "puzzleInput = getPuzzleInput().split(\"\\n\")\n",
    "puzzleInput = [list(line) for line in puzzleInput]\n",
    "\n",
    "rightBound = len(puzzleInput[0]) - 4\n",
    "leftBound = 3\n",
    "downBound  = len(puzzleInput) - 4\n",
    "upBound = 3\n",
    "\n",
    "# dictionary to grab the letters in each direction from a starting coordinate\n",
    "# keys are just for labeling, not actually used\n",
    "directions = {\n",
    "    'right':     (lambda r, c: puzzleInput[r][c+1]   + puzzleInput[r][c+2]   + puzzleInput[r][c+3]   if c <= rightBound else 0),\n",
    "    'left':      (lambda r, c: puzzleInput[r][c-1]   + puzzleInput[r][c-2]   + puzzleInput[r][c-3]   if c >= leftBound else 0),\n",
    "    'up':        (lambda r, c: puzzleInput[r-1][c]   + puzzleInput[r-2][c]   + puzzleInput[r-3][c]   if r >= upBound else 0),\n",
    "    'down':      (lambda r, c: puzzleInput[r+1][c]   + puzzleInput[r+2][c]   + puzzleInput[r+3][c]   if r <= downBound else 0),\n",
    "    'upLeft':    (lambda r, c: puzzleInput[r-1][c-1] + puzzleInput[r-2][c-2] + puzzleInput[r-3][c-3] if r >= upBound and c >= leftBound else 0),\n",
    "    'upRight':   (lambda r, c: puzzleInput[r-1][c+1] + puzzleInput[r-2][c+2] + puzzleInput[r-3][c+3] if r >= upBound and c <= rightBound else 0),\n",
    "    'downRight': (lambda r, c: puzzleInput[r+1][c+1] + puzzleInput[r+2][c+2] + puzzleInput[r+3][c+3] if r <= downBound and c <= rightBound else 0),\n",
    "    'downLeft':  (lambda r, c: puzzleInput[r+1][c-1] + puzzleInput[r+2][c-2] + puzzleInput[r+3][c-3] if r <= downBound and c >= leftBound else 0)\n",
    "}\n",
    "\n",
    "def checkXmas(r, c) -> int:\n",
    "    count = 0\n",
    "    for func in directions.values():\n",
    "        try:\n",
    "            if func(r, c) == 'MAS':\n",
    "                count += 1\n",
    "        except:\n",
    "            continue\n",
    "    return count\n",
    "\n",
    "xmasCount = 0\n",
    "for row, line in enumerate(puzzleInput):\n",
    "    for column, char in enumerate(line):\n",
    "        if char == 'X':\n",
    "            xmasCount += checkXmas(row, column)\n",
    "\n",
    "print(xmasCount)"
   ]
  },
  {
   "cell_type": "markdown",
   "id": "c5dda28e-a7ca-4a85-894d-b28479894cc1",
   "metadata": {},
   "source": [
    "# Part 2"
   ]
  },
  {
   "cell_type": "code",
   "execution_count": null,
   "id": "fbda3e23-544b-4478-88dc-eba3fc6b585f",
   "metadata": {},
   "outputs": [
    {
     "name": "stdout",
     "output_type": "stream",
     "text": [
      "1900\n"
     ]
    }
   ],
   "source": [
    "# turn the puzzle input into 2D array\n",
    "puzzleInput = getPuzzleInput().split(\"\\n\")\n",
    "puzzleInput = [list(line) for line in puzzleInput]\n",
    "\n",
    "def checkMAS(r, c) -> int:\n",
    "    try:\n",
    "        diag1 = puzzleInput[r-1][c-1] + 'A' + puzzleInput[r+1][c+1]\n",
    "        diag2 = puzzleInput[r-1][c+1] + 'A' + puzzleInput[r+1][c-1]\n",
    "\n",
    "        if diag1 in ('MAS', 'SAM') and diag2 in ('MAS', 'SAM'):\n",
    "            return True\n",
    "        else:\n",
    "            return False\n",
    "        \n",
    "    except:\n",
    "        return False\n",
    "    \n",
    "\n",
    "xmasCount = 0\n",
    "for row, line in enumerate(puzzleInput):\n",
    "    for column, char in enumerate(line):\n",
    "        if char == 'A' and (0 < row < len(puzzleInput) - 1) and (0 < column < len(puzzleInput[0]) - 1):\n",
    "            xmasCount += checkMAS(row, column)\n",
    "\n",
    "print(xmasCount)"
   ]
  }
 ],
 "metadata": {
  "kernelspec": {
   "display_name": "base",
   "language": "python",
   "name": "python3"
  },
  "language_info": {
   "codemirror_mode": {
    "name": "ipython",
    "version": 3
   },
   "file_extension": ".py",
   "mimetype": "text/x-python",
   "name": "python",
   "nbconvert_exporter": "python",
   "pygments_lexer": "ipython3",
   "version": "3.12.4"
  }
 },
 "nbformat": 4,
 "nbformat_minor": 5
}
