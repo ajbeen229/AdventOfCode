{
 "cells": [
  {
   "cell_type": "markdown",
   "metadata": {},
   "source": [
    "# Part 1"
   ]
  },
  {
   "cell_type": "code",
   "execution_count": 5,
   "metadata": {},
   "outputs": [],
   "source": [
    "def getPuzzleInput():\n",
    "    with open('Day 5-1.txt') as file:\n",
    "        file1 = file.read()\n",
    "\n",
    "    with open(\"Day 5-2.txt\") as file:\n",
    "        file2 = file.read()\n",
    "\n",
    "    return file1, file2"
   ]
  },
  {
   "cell_type": "code",
   "execution_count": 6,
   "metadata": {},
   "outputs": [],
   "source": [
    "orders, updates = getPuzzleInput()\n",
    "\n",
    "orders = orders.split(\"\\n\")\n",
    "updates = updates.split(\"\\n\")\n",
    "\n",
    "orders = [line.split('|') for line in orders]\n",
    "updates = [line.split(',') for line in updates]"
   ]
  },
  {
   "cell_type": "code",
   "execution_count": 8,
   "metadata": {},
   "outputs": [],
   "source": [
    "# returns True if the list is not in the correct order\n",
    "def checkIncorrectOrder(line, orders):\n",
    "    for rule in orders:\n",
    "        try:\n",
    "            # get each sides of the ordering rule\n",
    "            # if the number on the left shows up later in the list than the number on the right,\n",
    "            # the list is not in the correct order and the function should return False\n",
    "            if line.index(rule[0]) > line.index(rule[1]):\n",
    "                return True\n",
    "        except:\n",
    "            pass\n",
    "    return False"
   ]
  },
  {
   "cell_type": "code",
   "execution_count": 9,
   "metadata": {},
   "outputs": [
    {
     "name": "stdout",
     "output_type": "stream",
     "text": [
      "6384\n"
     ]
    }
   ],
   "source": [
    "sum = 0\n",
    "for line in updates:\n",
    "    if not checkIncorrectOrder(line, orders):\n",
    "        sum += int(line[len(line)//2])\n",
    "\n",
    "print(sum)"
   ]
  },
  {
   "cell_type": "markdown",
   "metadata": {},
   "source": [
    "# Part 2\n",
    "> Unfinished"
   ]
  },
  {
   "cell_type": "code",
   "execution_count": null,
   "metadata": {},
   "outputs": [
    {
     "name": "stdout",
     "output_type": "stream",
     "text": [
      "('61', 24)\n",
      "('25', 24)\n",
      "('98', 24)\n",
      "('32', 24)\n",
      "('87', 24)\n",
      "('26', 24)\n",
      "('22', 24)\n",
      "('76', 24)\n",
      "('77', 24)\n",
      "('79', 24)\n",
      "('58', 24)\n",
      "('96', 24)\n",
      "('74', 24)\n",
      "('27', 24)\n",
      "('39', 24)\n",
      "('12', 24)\n",
      "('43', 24)\n",
      "('15', 24)\n",
      "('46', 24)\n",
      "('35', 24)\n",
      "('99', 24)\n",
      "('88', 24)\n",
      "('69', 24)\n",
      "('91', 24)\n",
      "('64', 24)\n",
      "('41', 24)\n",
      "('93', 24)\n",
      "('84', 24)\n",
      "('29', 24)\n",
      "('53', 24)\n",
      "('51', 24)\n",
      "('11', 24)\n",
      "('94', 24)\n",
      "('34', 24)\n",
      "('59', 24)\n",
      "('75', 24)\n",
      "('72', 24)\n",
      "('36', 24)\n",
      "('42', 24)\n",
      "('13', 24)\n",
      "('37', 24)\n",
      "('56', 24)\n",
      "('24', 24)\n",
      "('92', 24)\n",
      "('73', 24)\n",
      "('62', 24)\n",
      "('85', 24)\n",
      "('47', 24)\n",
      "('66', 24)\n",
      "('98', 24)\n",
      "('32', 24)\n",
      "('15', 24)\n",
      "('88', 24)\n",
      "('77', 24)\n",
      "('34', 24)\n",
      "('13', 24)\n",
      "('75', 24)\n",
      "('91', 24)\n",
      "('26', 24)\n",
      "('39', 24)\n",
      "('27', 24)\n",
      "('46', 24)\n",
      "('29', 24)\n",
      "('93', 24)\n",
      "('53', 24)\n",
      "('42', 24)\n",
      "('76', 24)\n",
      "('24', 24)\n",
      "('37', 24)\n",
      "('74', 24)\n",
      "('79', 24)\n",
      "('11', 24)\n",
      "('36', 24)\n",
      "('69', 24)\n",
      "('85', 24)\n",
      "('99', 24)\n",
      "('94', 24)\n",
      "('43', 24)\n",
      "('59', 24)\n",
      "('56', 24)\n",
      "('22', 24)\n",
      "('61', 24)\n",
      "('35', 24)\n",
      "('51', 24)\n",
      "('72', 24)\n",
      "('66', 24)\n",
      "('62', 24)\n",
      "('96', 24)\n",
      "('25', 24)\n",
      "('58', 24)\n",
      "('73', 24)\n",
      "('47', 24)\n",
      "('64', 24)\n",
      "('87', 24)\n",
      "('92', 24)\n",
      "('84', 24)\n",
      "('12', 24)\n",
      "('41', 24)\n"
     ]
    },
    {
     "ename": "NameError",
     "evalue": "name 'correctedList' is not defined",
     "output_type": "error",
     "traceback": [
      "\u001b[1;31m---------------------------------------------------------------------------\u001b[0m",
      "\u001b[1;31mNameError\u001b[0m                                 Traceback (most recent call last)",
      "Cell \u001b[1;32mIn[14], line 12\u001b[0m\n\u001b[0;32m      9\u001b[0m \u001b[38;5;66;03m# correctedList = [fixLine(incLine) for incLine in incorrectList]\u001b[39;00m\n\u001b[0;32m     11\u001b[0m \u001b[38;5;28msum\u001b[39m \u001b[38;5;241m=\u001b[39m \u001b[38;5;241m0\u001b[39m\n\u001b[1;32m---> 12\u001b[0m \u001b[38;5;28;01mfor\u001b[39;00m line \u001b[38;5;129;01min\u001b[39;00m correctedList:\n\u001b[0;32m     13\u001b[0m     \u001b[38;5;28msum\u001b[39m \u001b[38;5;241m+\u001b[39m\u001b[38;5;241m=\u001b[39m \u001b[38;5;28mint\u001b[39m(line[\u001b[38;5;28mlen\u001b[39m(line)\u001b[38;5;241m/\u001b[39m\u001b[38;5;241m/\u001b[39m\u001b[38;5;241m2\u001b[39m])\n\u001b[0;32m     15\u001b[0m \u001b[38;5;28mprint\u001b[39m(\u001b[38;5;28msum\u001b[39m)\n",
      "\u001b[1;31mNameError\u001b[0m: name 'correctedList' is not defined"
     ]
    }
   ],
   "source": [
    "incorrectList = []\n",
    "\n",
    "for line in updates:\n",
    "    if checkIncorrectOrder(line, updates):\n",
    "        incorrectList.append(line)\n",
    "\n",
    "# do something here to correct each list\n",
    "\n",
    "sum = 0\n",
    "for line in correctedList:\n",
    "    sum += int(line[len(line)//2])\n",
    "\n",
    "print(sum)"
   ]
  }
 ],
 "metadata": {
  "kernelspec": {
   "display_name": "base",
   "language": "python",
   "name": "python3"
  },
  "language_info": {
   "codemirror_mode": {
    "name": "ipython",
    "version": 3
   },
   "file_extension": ".py",
   "mimetype": "text/x-python",
   "name": "python",
   "nbconvert_exporter": "python",
   "pygments_lexer": "ipython3",
   "version": "3.12.4"
  }
 },
 "nbformat": 4,
 "nbformat_minor": 2
}
