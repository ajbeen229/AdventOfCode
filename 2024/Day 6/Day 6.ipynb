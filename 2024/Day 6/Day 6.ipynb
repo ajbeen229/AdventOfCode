{
 "cells": [
  {
   "cell_type": "markdown",
   "metadata": {},
   "source": [
    "# Part 1"
   ]
  },
  {
   "cell_type": "code",
   "execution_count": 115,
   "metadata": {},
   "outputs": [],
   "source": [
    "from itertools import cycle\n",
    "\n",
    "def getPuzzleInput():\n",
    "    with open('testInput.txt') as file:\n",
    "        return file.read()"
   ]
  },
  {
   "cell_type": "code",
   "execution_count": 116,
   "metadata": {},
   "outputs": [],
   "source": [
    "# unpacking operator! [*obj]\n",
    "puzzleInput = [[*line] for line in getPuzzleInput().split()]\n",
    "\n",
    "def startGuard():\n",
    "    for row in range(len(puzzleInput)):\n",
    "        for column in range(len(puzzleInput[0])):\n",
    "            if puzzleInput[row][column] == '^':\n",
    "                return [row, column]\n",
    "\n",
    "partOneInput = puzzleInput.copy()\n",
    "\n",
    "directions = [\n",
    "    (-1, 0), # up\n",
    "    (0, 1),  # right\n",
    "    (1, 0),  # down\n",
    "    (0, -1)  # left\n",
    "]\n",
    "\n",
    "originalPath = set()"
   ]
  },
  {
   "cell_type": "code",
   "execution_count": 117,
   "metadata": {},
   "outputs": [
    {
     "name": "stdout",
     "output_type": "stream",
     "text": [
      "Number of spots visited: 41\n"
     ]
    }
   ],
   "source": [
    "directionCycle = cycle(directions)\n",
    "\n",
    "direction = next(directionCycle)\n",
    "guardPos = startGuard()\n",
    "\n",
    "outOfBounds = False\n",
    "partOneInput[guardPos[0]][guardPos[1]] = 'X'\n",
    "\n",
    "while not outOfBounds:\n",
    "    if guardPos[0] < 0 or guardPos[1] < 0:\n",
    "        outOfBounds = True\n",
    "\n",
    "    else:\n",
    "        partOneInput[guardPos[0]][guardPos[1]] = 'X'\n",
    "        originalPath.add((guardPos[0], guardPos[1]))\n",
    "        \n",
    "        try:\n",
    "            if partOneInput[guardPos[0] + direction[0]][guardPos[1] + direction[1]] in ('#'):\n",
    "                # change direction cyclically\n",
    "                direction = next(directionCycle)\n",
    "                continue\n",
    "            \n",
    "            guardPos[0] += direction[0]\n",
    "            guardPos[1] += direction[1]\n",
    "\n",
    "        except:\n",
    "            outOfBounds = True\n",
    "    \n",
    "# for i in puzzleInput: print(i)\n",
    "\n",
    "numberOfX = 0\n",
    "for line in partOneInput:\n",
    "    for char in line:\n",
    "        if char == 'X':\n",
    "            numberOfX += 1\n",
    "\n",
    "print('Number of spots visited:', numberOfX)"
   ]
  },
  {
   "cell_type": "markdown",
   "metadata": {},
   "source": [
    "# Part 2\n",
    "> Unfinished"
   ]
  },
  {
   "cell_type": "code",
   "execution_count": 119,
   "metadata": {},
   "outputs": [
    {
     "name": "stdout",
     "output_type": "stream",
     "text": [
      "Number of positions for the obstacle: 0\n"
     ]
    }
   ],
   "source": [
    "# how many places the obstacle could be placed\n",
    "obsPlacements = 0\n",
    "# obstacleGrid = None\n",
    "obstacleGrid = puzzleInput.copy()\n",
    "\n",
    "for pos in originalPath:\n",
    "        # set the obstacle\n",
    "        if obstacleGrid[pos[0]][pos[1]] in ('#', '^'):\n",
    "            continue\n",
    "\n",
    "        obstacleGrid[pos[0]][pos[1]] = 'O'\n",
    "\n",
    "        # dict for storing visited positions and how many times they have been visited\n",
    "        visitedPos = []\n",
    "\n",
    "        directionCycle = cycle(directions)\n",
    "        direction = next(directionCycle)\n",
    "\n",
    "        currentPos = guardPos.copy()\n",
    "\n",
    "        outOfBounds = False\n",
    "        looped = False\n",
    "        \n",
    "        while not outOfBounds:\n",
    "\n",
    "            # must check for negative indices because it WILL continue into the negatives\n",
    "            if currentPos[0] < 0 or currentPos[1] < 0:\n",
    "                outOfBounds = True\n",
    "\n",
    "            else:                \n",
    "                try:\n",
    "                    if obstacleGrid[currentPos[0] + direction[0]][currentPos[1] + direction[1]] in ('#', 'O'):\n",
    "                        # print((currentPos, direction) in visitedPos)\n",
    "                        if (currentPos, direction) in visitedPos:\n",
    "                            looped = True\n",
    "                            obsPlacements += 1\n",
    "                            print(f'stuck with obstacle at ({pos[0]},{pos[1]})')\n",
    "                            break\n",
    "\n",
    "                        # append the current position and direction as a tuple instead of changing the input\n",
    "                        visitedPos.append((currentPos.copy(), direction))\n",
    "\n",
    "                        # change direction cyclically\n",
    "                        direction = next(directionCycle)\n",
    "\n",
    "                        # don't move the guard\n",
    "                        continue\n",
    "                    \n",
    "                    currentPos[0] += direction[0]\n",
    "                    currentPos[1] += direction[1]\n",
    "\n",
    "\n",
    "\n",
    "                except:\n",
    "                    outOfBounds = True\n",
    "\n",
    "            # if looped:\n",
    "            #     break\n",
    "\n",
    "print('Number of positions for the obstacle:', obsPlacements)"
   ]
  }
 ],
 "metadata": {
  "kernelspec": {
   "display_name": "base",
   "language": "python",
   "name": "python3"
  },
  "language_info": {
   "codemirror_mode": {
    "name": "ipython",
    "version": 3
   },
   "file_extension": ".py",
   "mimetype": "text/x-python",
   "name": "python",
   "nbconvert_exporter": "python",
   "pygments_lexer": "ipython3",
   "version": "3.12.4"
  }
 },
 "nbformat": 4,
 "nbformat_minor": 4
}
