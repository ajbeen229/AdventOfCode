{
 "cells": [
  {
   "cell_type": "markdown",
   "id": "86858504-2f9f-462b-b23e-63a9f9a51ee0",
   "metadata": {},
   "source": [
    "# Part 1"
   ]
  },
  {
   "cell_type": "code",
   "execution_count": 2,
   "id": "07b49d7e-214e-43b4-808d-f6ab49f45431",
   "metadata": {},
   "outputs": [],
   "source": [
    "def getPuzzleInput():\n",
    "    with open('Day 2.txt') as file:\n",
    "        return file.read()"
   ]
  },
  {
   "cell_type": "code",
   "execution_count": 6,
   "id": "42900c94-be78-48f2-91cc-c63af8d8c1be",
   "metadata": {},
   "outputs": [
    {
     "name": "stdout",
     "output_type": "stream",
     "text": [
      "2\n"
     ]
    }
   ],
   "source": [
    "puzzleInput = getPuzzleInput().split(\"\\n\")\n",
    "\n",
    "safeLevels = 0\n",
    "for line in puzzleInput:\n",
    "    report = [int(i) for i in line.split(\" \")]\n",
    "    \n",
    "    levels = []\n",
    "\n",
    "    for i in range(1, len(report)):\n",
    "        levels.append(report[i-1] - report[i])\n",
    "\n",
    "    # check if all decreasing between -1 and -3\n",
    "    if all((n < 0) and (n > -4) for n in levels):\n",
    "        safeLevels += 1\n",
    "        \n",
    "    # check if all increasing between 1 and 3\n",
    "    elif all((n > 0) and (n < 4) for n in levels):\n",
    "        safeLevels += 1\n",
    "\n",
    "print(safeLevels)\n"
   ]
  },
  {
   "cell_type": "markdown",
   "id": "ab0d4d7a-324f-42a6-be85-f29505d95005",
   "metadata": {},
   "source": [
    "# Part 2"
   ]
  },
  {
   "cell_type": "code",
   "execution_count": 98,
   "id": "7d028213-fb42-4e1d-a647-465c50a8d744",
   "metadata": {},
   "outputs": [
    {
     "name": "stdout",
     "output_type": "stream",
     "text": [
      "Safe Reports: 439\n"
     ]
    }
   ],
   "source": [
    "puzzleInput = getPuzzleInput().split(\"\\n\")\n",
    "newSafeLevels = 0\n",
    "\n",
    "# all of the level reports based on distances\n",
    "reportLevels = []\n",
    "\n",
    "def safetyCheck(differenceList):\n",
    "    # check if all increasing between -1 and -3\n",
    "    if all((n < 0) and (n > -4) for n in differenceList):\n",
    "        return True\n",
    "        \n",
    "    # check if all decreasing between 1 and 3\n",
    "    elif all((n > 0) and (n < 4) for n in differenceList):\n",
    "        return True\n",
    "\n",
    "    return False\n",
    "\n",
    "\n",
    "for line in puzzleInput:\n",
    "    report = [int(i) for i in line.split(\" \")]\n",
    "    \n",
    "    for i in range(len(report)):\n",
    "        newReport = report.copy()\n",
    "        del newReport[i] # remove one item at a time\n",
    "        differences = [newReport[x-1] - newReport[x] for x in range(1, len(newReport))]\n",
    "        \n",
    "        if safetyCheck(differences):\n",
    "            newSafeLevels += 1\n",
    "            break\n",
    "\n",
    "print('Safe Reports:', newSafeLevels)"
   ]
  }
 ],
 "metadata": {
  "kernelspec": {
   "display_name": "Python 3 (ipykernel)",
   "language": "python",
   "name": "python3"
  },
  "language_info": {
   "codemirror_mode": {
    "name": "ipython",
    "version": 3
   },
   "file_extension": ".py",
   "mimetype": "text/x-python",
   "name": "python",
   "nbconvert_exporter": "python",
   "pygments_lexer": "ipython3",
   "version": "3.12.4"
  }
 },
 "nbformat": 4,
 "nbformat_minor": 5
}
