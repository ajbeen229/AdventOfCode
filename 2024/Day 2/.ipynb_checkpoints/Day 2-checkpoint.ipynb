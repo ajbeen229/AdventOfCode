{
 "cells": [
  {
   "cell_type": "markdown",
   "id": "86858504-2f9f-462b-b23e-63a9f9a51ee0",
   "metadata": {},
   "source": [
    "# Day 2: Red-Nosed Reports \n",
    "\n",
    "---\n",
    "\n",
    "Fortunately, the first location The Historians want to search isn't a long walk from the Chief Historian's office.\n",
    "\n",
    "While the Red-Nosed Reindeer nuclear fusion/fission plant appears to contain no sign of the Chief Historian, the engineers there run up to you as soon as they see you. Apparently, they still talk about the time Rudolph was saved through molecular synthesis from a single electron.\n",
    "\n",
    "They're quick to add that - since you're already here - they'd really appreciate your help analyzing some unusual data from the Red-Nosed reactor. You turn to check if The Historians are waiting for you, but they seem to have already divided into groups that are currently searching every corner of the facility. You offer to help with the unusual data.\n",
    "\n",
    "The unusual data (your puzzle input) consists of many reports, one report per line. Each report is a list of numbers called levels that are separated by spaces. For example:\n",
    "\n",
    "```\n",
    "7 6 4 2 1\n",
    "1 2 7 8 9\n",
    "9 7 6 2 1\n",
    "1 3 2 4 5\n",
    "8 6 4 4 1\n",
    "1 3 6 7 9\n",
    "```\n",
    "\n",
    "This example data contains six reports each containing five levels.\n",
    "\n",
    "The engineers are trying to figure out which reports are safe. The Red-Nosed reactor safety systems can only tolerate levels that are either gradually increasing or gradually decreasing. So, a report only counts as safe if both of the following are true:\n",
    "\n",
    "* The levels are either all increasing or all decreasing.\n",
    "* Any two adjacent levels differ by at least one and at most three.\n",
    "\n",
    "In the example above, the reports can be found safe or unsafe by checking those rules:\n",
    "\n",
    "* `7 6 4 2 1`: Safe because the levels are all decreasing by 1 or 2.\n",
    "* `1 2 7 8 9`: Unsafe because 2 7 is an increase of 5.\n",
    "* `9 7 6 2 1`: Unsafe because 6 2 is a decrease of 4.\n",
    "* `1 3 2 4 5`: Unsafe because 1 3 is increasing but 3 2 is decreasing.\n",
    "* `8 6 4 4 1`: Unsafe because 4 4 is neither an increase or a decrease.\n",
    "* `1 3 6 7 9`: Safe because the levels are all increasing by 1, 2, or 3.\n",
    "* \n",
    "So, in this example, 2 reports are safe.\n",
    "\n",
    "Analyze the unusual data from the engineers. How many reports are safe?ers. How many reports are safe?"
   ]
  },
  {
   "cell_type": "code",
   "execution_count": 2,
   "id": "07b49d7e-214e-43b4-808d-f6ab49f45431",
   "metadata": {},
   "outputs": [],
   "source": [
    "def getPuzzleInput():\n",
    "    with open('Day 2.txt') as file:\n",
    "        return file.read()"
   ]
  },
  {
   "cell_type": "code",
   "execution_count": 6,
   "id": "42900c94-be78-48f2-91cc-c63af8d8c1be",
   "metadata": {},
   "outputs": [
    {
     "name": "stdout",
     "output_type": "stream",
     "text": [
      "2\n"
     ]
    }
   ],
   "source": [
    "puzzleInput = getPuzzleInput().split(\"\\n\")\n",
    "\n",
    "safeLevels = 0\n",
    "for line in puzzleInput:\n",
    "    report = [int(i) for i in line.split(\" \")]\n",
    "    \n",
    "    levels = []\n",
    "\n",
    "    for i in range(1, len(report)):\n",
    "        levels.append(report[i-1] - report[i])\n",
    "\n",
    "    # check if all decreasing between -1 and -3\n",
    "    if all((n < 0) and (n > -4) for n in levels):\n",
    "        safeLevels += 1\n",
    "        \n",
    "    # check if all increasing between 1 and 3\n",
    "    elif all((n > 0) and (n < 4) for n in levels):\n",
    "        safeLevels += 1\n",
    "\n",
    "print(safeLevels)\n"
   ]
  },
  {
   "cell_type": "markdown",
   "id": "ab0d4d7a-324f-42a6-be85-f29505d95005",
   "metadata": {},
   "source": [
    "# Part Two \n",
    "\n",
    "---\n",
    "\n",
    "The engineers are surprised by the low number of safe reports until they realize they forgot to tell you about the Problem Dampener.\n",
    "\n",
    "The Problem Dampener is a reactor-mounted module that lets the reactor safety systems tolerate a single bad level in what would otherwise be a safe report. It's like the bad level never happened!\n",
    "\n",
    "Now, the same rules apply as before, except if removing a single level from an unsafe report would make it safe, the report instead counts as safe.\n",
    "\n",
    "More of the above example's reports are now safe:\n",
    "\n",
    "* `7 6 4 2 1`: Safe without removing any level.\n",
    "* `1 2 7 8 9`: Unsafe regardless of which level is removed.\n",
    "* `9 7 6 2 1`: Unsafe regardless of which level is removed.\n",
    "* `1 3 2 4 5`: Safe by removing the second level, 3.\n",
    "* `8 6 4 4 1`: Safe by removing the third level, 4.\n",
    "* `1 3 6 7 9`: Safe without removing any level.\n",
    "\n",
    "Thanks to the Problem Dampener, 4 reports are actually safe!\n",
    "\n",
    "Update your analysis by handling situations where the Problem Dampener can remove a single level from unsafe reports. How many reports are now safe?rts are now safe?"
   ]
  },
  {
   "cell_type": "code",
   "execution_count": 96,
   "id": "7d028213-fb42-4e1d-a647-465c50a8d744",
   "metadata": {},
   "outputs": [
    {
     "name": "stdout",
     "output_type": "stream",
     "text": [
      "Safe Reports: 439\n"
     ]
    }
   ],
   "source": [
    "puzzleInput = getPuzzleInput().split(\"\\n\")\n",
    "newSafeLevels = 0\n",
    "\n",
    "# all of the level reports based on distances\n",
    "reportLevels = []\n",
    "\n",
    "def safetyCheck(differenceList):\n",
    "    # check if all increasing between -1 and -3\n",
    "    if all((n < 0) and (n > -4) for n in differenceList):\n",
    "        return True\n",
    "        \n",
    "    # check if all decreasing between 1 and 3\n",
    "    elif all((n > 0) and (n < 4) for n in differenceList):\n",
    "        return True\n",
    "\n",
    "    return False\n",
    "\n",
    "\n",
    "for line in puzzleInput:\n",
    "    report = [int(i) for i in line.split(\" \")]\n",
    "    \n",
    "    for i in range(len(report)):\n",
    "        newReport = report.copy()\n",
    "        del newReport[i] # remove one item at a time\n",
    "        differences = [newReport[x-1] - newReport[x] for x in range(1, len(newReport))]\n",
    "        \n",
    "        if safetyCheck(differences):\n",
    "            newSafeLevels += 1\n",
    "            break\n",
    "\n",
    "print('Safe Reports:', newSafeLevels)"
   ]
  }
 ],
 "metadata": {
  "kernelspec": {
   "display_name": "Python 3 (ipykernel)",
   "language": "python",
   "name": "python3"
  },
  "language_info": {
   "codemirror_mode": {
    "name": "ipython",
    "version": 3
   },
   "file_extension": ".py",
   "mimetype": "text/x-python",
   "name": "python",
   "nbconvert_exporter": "python",
   "pygments_lexer": "ipython3",
   "version": "3.12.4"
  }
 },
 "nbformat": 4,
 "nbformat_minor": 5
}
