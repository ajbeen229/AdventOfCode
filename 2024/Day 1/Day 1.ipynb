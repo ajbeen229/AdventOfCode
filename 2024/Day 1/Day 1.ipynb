{
 "cells": [
  {
   "cell_type": "markdown",
   "id": "679d44cd-5d7b-42bc-a078-1f3610e0593f",
   "metadata": {},
   "source": [
    "# Part 1"
   ]
  },
  {
   "cell_type": "code",
   "execution_count": 2,
   "id": "c7bbdf8d-305a-4730-9d01-395c763477f7",
   "metadata": {},
   "outputs": [],
   "source": [
    "def getPuzzleInput():\n",
    "    with open('Day 1.txt') as file:\n",
    "        return file.read()"
   ]
  },
  {
   "cell_type": "code",
   "execution_count": 4,
   "id": "f45ef417-b679-4706-b5a9-1bd43f61b14d",
   "metadata": {},
   "outputs": [
    {
     "name": "stdout",
     "output_type": "stream",
     "text": [
      "1189304\n"
     ]
    }
   ],
   "source": [
    "puzzleInput = getPuzzleInput().split(\"\\n\")\n",
    "\n",
    "leftList = []\n",
    "rightList = []\n",
    "distances = []\n",
    "\n",
    "for line in puzzleInput:\n",
    "    left, right = line.split(\"   \")\n",
    "    leftList.append(int(left))\n",
    "    rightList.append(int(right))\n",
    "\n",
    "leftList.sort()\n",
    "rightList.sort()\n",
    "\n",
    "for i in range(len(leftList)):\n",
    "    distances.append(abs(leftList[i] - rightList[i]))\n",
    "\n",
    "print(sum(distances))"
   ]
  },
  {
   "cell_type": "markdown",
   "id": "0d13db22-ce4d-4ca1-bfbd-3acf48fcce9b",
   "metadata": {},
   "source": [
    "# Part 2"
   ]
  },
  {
   "cell_type": "code",
   "execution_count": 12,
   "id": "a72ab641-07e5-4d74-bfa0-e6c0e836e133",
   "metadata": {},
   "outputs": [
    {
     "name": "stdout",
     "output_type": "stream",
     "text": [
      "24349736\n"
     ]
    }
   ],
   "source": [
    "print(sum([num * rightList.count(num) for num in leftList]))"
   ]
  }
 ],
 "metadata": {
  "kernelspec": {
   "display_name": "Python 3 (ipykernel)",
   "language": "python",
   "name": "python3"
  },
  "language_info": {
   "codemirror_mode": {
    "name": "ipython",
    "version": 3
   },
   "file_extension": ".py",
   "mimetype": "text/x-python",
   "name": "python",
   "nbconvert_exporter": "python",
   "pygments_lexer": "ipython3",
   "version": "3.12.4"
  }
 },
 "nbformat": 4,
 "nbformat_minor": 5
}
