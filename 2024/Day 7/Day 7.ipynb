{
 "cells": [
  {
   "cell_type": "markdown",
   "metadata": {},
   "source": [
    "# Part 1"
   ]
  },
  {
   "cell_type": "code",
   "execution_count": 2,
   "metadata": {},
   "outputs": [],
   "source": [
    "def getPuzzleInput():\n",
    "    with open('Day 7.txt') as file:\n",
    "        return file.read()"
   ]
  },
  {
   "cell_type": "code",
   "execution_count": 8,
   "metadata": {},
   "outputs": [],
   "source": [
    "def testValues(testValue, nums, combos):\n",
    "    for combo in combos: # loop through all combinations of arithmetic expressions\n",
    "        result = nums[0]\n",
    "        for i in range(len(combo)): # len(combos) is just len(nums) - 1\n",
    "            a = result\n",
    "            b = nums[i+1]\n",
    "            if combo[i] == '+':\n",
    "                result = a + b\n",
    "            else:\n",
    "                result = a * b\n",
    "        if result == testValue:\n",
    "            return True\n",
    "    return False"
   ]
  },
  {
   "cell_type": "code",
   "execution_count": 16,
   "metadata": {},
   "outputs": [
    {
     "name": "stdout",
     "output_type": "stream",
     "text": [
      "5837374519342\n"
     ]
    }
   ],
   "source": [
    "from itertools import product\n",
    "\n",
    "puzzleInput = getPuzzleInput().split(\"\\n\")\n",
    "\n",
    "sum = 0\n",
    "\n",
    "for line in puzzleInput:\n",
    "    testValue = int(line[:line.index(':')])\n",
    "    nums = list(map(int, line[line.index(':')+2:].split(' ')))\n",
    "    combos = product(['+', '*'], repeat=(len(nums)-1))\n",
    "    if testValues(testValue, nums, combos):\n",
    "        sum += testValue\n",
    "\n",
    "print(sum)"
   ]
  },
  {
   "cell_type": "markdown",
   "metadata": {},
   "source": [
    "# Part 2"
   ]
  },
  {
   "cell_type": "code",
   "execution_count": 3,
   "metadata": {},
   "outputs": [],
   "source": [
    "def testValues(testValue, nums, combos):\n",
    "    for combo in combos: # loop through all combinations of arithmetic expressions\n",
    "        result = nums[0]\n",
    "        for i in range(len(combo)): # len(combos) is just len(nums) - 1\n",
    "            a = result\n",
    "            b = nums[i+1]\n",
    "            if combo[i] == '+':\n",
    "                result = a + b\n",
    "            elif combo[i] == '*':\n",
    "                result = a * b\n",
    "            else:\n",
    "                s = str(a) + str(b)\n",
    "                result = int(s)\n",
    "        if result == testValue:\n",
    "            return True\n",
    "    return False"
   ]
  },
  {
   "cell_type": "code",
   "execution_count": 4,
   "metadata": {},
   "outputs": [
    {
     "name": "stdout",
     "output_type": "stream",
     "text": [
      "492383931650959\n"
     ]
    }
   ],
   "source": [
    "from itertools import product\n",
    "\n",
    "puzzleInput = getPuzzleInput().split(\"\\n\")\n",
    "\n",
    "sum = 0\n",
    "\n",
    "for line in puzzleInput:\n",
    "    testValue = int(line[:line.index(':')])\n",
    "    nums = list(map(int, line[line.index(':')+2:].split(' ')))\n",
    "    combos = product(['+', '*', '||'], repeat=(len(nums)-1))\n",
    "    if testValues(testValue, nums, combos):\n",
    "        sum += testValue\n",
    "\n",
    "print(sum)  "
   ]
  }
 ],
 "metadata": {
  "kernelspec": {
   "display_name": "base",
   "language": "python",
   "name": "python3"
  },
  "language_info": {
   "codemirror_mode": {
    "name": "ipython",
    "version": 3
   },
   "file_extension": ".py",
   "mimetype": "text/x-python",
   "name": "python",
   "nbconvert_exporter": "python",
   "pygments_lexer": "ipython3",
   "version": "3.12.4"
  }
 },
 "nbformat": 4,
 "nbformat_minor": 2
}
