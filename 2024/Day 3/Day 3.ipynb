{
 "cells": [
  {
   "cell_type": "markdown",
   "metadata": {},
   "source": [
    "# Part 1"
   ]
  },
  {
   "cell_type": "code",
   "execution_count": 2,
   "metadata": {},
   "outputs": [],
   "source": [
    "from re import findall\n",
    "\n",
    "def getPuzzleInput():\n",
    "    with open('Day 3.txt') as file:\n",
    "        return file.read()"
   ]
  },
  {
   "cell_type": "code",
   "execution_count": 3,
   "metadata": {},
   "outputs": [
    {
     "name": "stdout",
     "output_type": "stream",
     "text": [
      "169021493\n"
     ]
    }
   ],
   "source": [
    "puzzleInput = getPuzzleInput()\n",
    "\n",
    "matches = findall(r'mul\\((\\d{1,3}),(\\d{1,3})\\)', puzzleInput)\n",
    "\n",
    "products = [int(i[0]) * int(i[1]) for i in matches]\n",
    "\n",
    "print(sum(products))"
   ]
  },
  {
   "cell_type": "markdown",
   "metadata": {},
   "source": [
    "# Part 2"
   ]
  },
  {
   "cell_type": "code",
   "execution_count": 4,
   "metadata": {},
   "outputs": [
    {
     "name": "stdout",
     "output_type": "stream",
     "text": [
      "111762583\n"
     ]
    }
   ],
   "source": [
    "puzzleInput = getPuzzleInput()\n",
    "\n",
    "matches = findall(r'mul\\(\\d{1,3},\\d{1,3}\\)|do\\(\\)|don\\'t\\(\\)', puzzleInput)\n",
    "\n",
    "do = True\n",
    "s = 0\n",
    "for ins in matches:\n",
    "    if do:\n",
    "        if ins.startswith('mul'):\n",
    "            first, second = findall(r'(\\d{1,3})', ins)\n",
    "            s += int(first) * int(second)\n",
    "        elif ins == \"don't()\":\n",
    "            do = False\n",
    "    elif ins == \"do()\":\n",
    "        do = True\n",
    "        \n",
    "print(s)"
   ]
  }
 ],
 "metadata": {
  "kernelspec": {
   "display_name": "base",
   "language": "python",
   "name": "python3"
  },
  "language_info": {
   "codemirror_mode": {
    "name": "ipython",
    "version": 3
   },
   "file_extension": ".py",
   "mimetype": "text/x-python",
   "name": "python",
   "nbconvert_exporter": "python",
   "pygments_lexer": "ipython3",
   "version": "3.12.4"
  }
 },
 "nbformat": 4,
 "nbformat_minor": 2
}
