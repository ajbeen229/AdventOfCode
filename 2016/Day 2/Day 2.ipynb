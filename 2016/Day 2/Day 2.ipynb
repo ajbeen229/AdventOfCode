{
 "cells": [
  {
   "cell_type": "markdown",
   "id": "961a1d6a",
   "metadata": {},
   "source": [
    "# Part 1"
   ]
  },
  {
   "cell_type": "code",
   "execution_count": 2,
   "id": "f386967e",
   "metadata": {},
   "outputs": [],
   "source": [
    "def getPuzzleInput():\n",
    "    with open(\"Day 2.txt\") as file:\n",
    "        return file.read()"
   ]
  },
  {
   "cell_type": "code",
   "execution_count": 3,
   "id": "673072bd",
   "metadata": {},
   "outputs": [
    {
     "name": "stdout",
     "output_type": "stream",
     "text": [
      "35749\n"
     ]
    }
   ],
   "source": [
    "puzzleInput = getPuzzleInput()\n",
    "\n",
    "directions = {\n",
    "    \"U\": [-1, 0],\n",
    "    \"L\": [0, -1],\n",
    "    \"R\": [0, 1],\n",
    "    \"D\": [1, 0]\n",
    "}\n",
    "numpad = [\n",
    "    [1, 2, 3],\n",
    "    [4, 5, 6],\n",
    "    [7, 8, 9]\n",
    "]\n",
    "currentCell = [1, 1]\n",
    "bathroomCode = \"\"\n",
    "\n",
    "for line in puzzleInput.split(\"\\n\"):\n",
    "    for char in line:\n",
    "        operation = directions[char]\n",
    "        if 0 <= currentCell[0] + operation[0] <= 2:\n",
    "            currentCell[0] += operation[0]\n",
    "        if 0 <= currentCell[1] + operation[1] <= 2:\n",
    "            currentCell[1] += operation[1]\n",
    "        \n",
    "    bathroomCode += f\"{numpad[currentCell[0]][currentCell[1]]}\"\n",
    "\n",
    "print(bathroomCode)"
   ]
  },
  {
   "cell_type": "code",
   "execution_count": 17,
   "id": "1b9b8e1e",
   "metadata": {},
   "outputs": [
    {
     "name": "stdout",
     "output_type": "stream",
     "text": [
      "9365C\n"
     ]
    }
   ],
   "source": [
    "directions = {\n",
    "    \"U\": [-1, 0],\n",
    "    \"L\": [0, -1],\n",
    "    \"R\": [0, 1],\n",
    "    \"D\": [1, 0]\n",
    "}\n",
    "numpad = [\n",
    "    [0, 0,  1,  0, 0],\n",
    "    [0, 2,  3,  4, 0],\n",
    "    [5, 6,  7,  8, 9],\n",
    "    [0,\"A\",\"B\",\"C\",0],\n",
    "    [0, 0, \"D\", 0, 0]\n",
    "]\n",
    "currentCell = [2, 2]\n",
    "bathroomCode = \"\"\n",
    "\n",
    "for line in puzzleInput.split(\"\\n\"):\n",
    "    for char in line:\n",
    "        operation = directions[char]\n",
    "        \n",
    "        if 0 <= currentCell[0] + operation[0] <= 4:\n",
    "            newRow = currentCell[0] + operation[0]\n",
    "        if 0 <= currentCell[1] + operation[1] <= 4:\n",
    "            newCol = currentCell[1] + operation[1]\n",
    "\n",
    "        \n",
    "        if numpad[newRow][newCol] != 0:\n",
    "            currentCell[0] = newRow\n",
    "            currentCell[1] = newCol\n",
    "        \n",
    "        # print(f\"dir: {directions[char]}\")\n",
    "        # print(f\"num: {numpad[currentCell[0]][currentCell[1]]}\")\n",
    "        # print()\n",
    "\n",
    "    bathroomCode += f\"{numpad[currentCell[0]][currentCell[1]]}\"\n",
    "    \n",
    "\n",
    "print(bathroomCode)"
   ]
  }
 ],
 "metadata": {
  "kernelspec": {
   "display_name": "Python 3",
   "language": "python",
   "name": "python3"
  },
  "language_info": {
   "codemirror_mode": {
    "name": "ipython",
    "version": 3
   },
   "file_extension": ".py",
   "mimetype": "text/x-python",
   "name": "python",
   "nbconvert_exporter": "python",
   "pygments_lexer": "ipython3",
   "version": "3.13.5"
  }
 },
 "nbformat": 4,
 "nbformat_minor": 5
}
