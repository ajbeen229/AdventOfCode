{
 "cells": [
  {
   "cell_type": "markdown",
   "id": "f6574743",
   "metadata": {},
   "source": [
    "# Part 1"
   ]
  },
  {
   "cell_type": "code",
   "execution_count": 2,
   "id": "80ab475a",
   "metadata": {},
   "outputs": [],
   "source": [
    "def getPuzzleInput():\n",
    "    with open(\"Day 1.txt\") as file:\n",
    "        return file.read()"
   ]
  },
  {
   "cell_type": "code",
   "execution_count": 3,
   "id": "99e913a6",
   "metadata": {},
   "outputs": [
    {
     "name": "stdout",
     "output_type": "stream",
     "text": [
      "234\n"
     ]
    }
   ],
   "source": [
    "puzzleInput = getPuzzleInput().split(\", \")\n",
    "\n",
    "coords = [0, 0]\n",
    "currentDirection = 0\n",
    "directions = [\n",
    "    [-1, 0], # north\n",
    "    [0, 1],  # east\n",
    "    [1, 0],  # south\n",
    "    [0, -1]  # west\n",
    "]\n",
    "\n",
    "for dir in puzzleInput:\n",
    "    if dir[0] == \"R\":\n",
    "        currentDirection = (currentDirection + 1) % 4\n",
    "    else:\n",
    "        currentDirection = (currentDirection - 1) % 4\n",
    "\n",
    "    coords[0] += directions[currentDirection][0] * int(dir[1:])\n",
    "    coords[1] += directions[currentDirection][1] * int(dir[1:])\n",
    "\n",
    "print(sum(map(abs, coords)))"
   ]
  },
  {
   "cell_type": "markdown",
   "id": "101d7c7e",
   "metadata": {},
   "source": [
    "# Part 2"
   ]
  },
  {
   "cell_type": "code",
   "execution_count": 5,
   "id": "541f0dc3",
   "metadata": {},
   "outputs": [
    {
     "name": "stdout",
     "output_type": "stream",
     "text": [
      "113\n"
     ]
    }
   ],
   "source": [
    "puzzleInput = getPuzzleInput().split(\", \")\n",
    "\n",
    "visitedCoords = set()\n",
    "\n",
    "coords = [0, 0]\n",
    "currentDirection = 0\n",
    "coordFound = False\n",
    "\n",
    "for dir in puzzleInput:\n",
    "    # print(dir)\n",
    "    if dir[0] == \"R\":\n",
    "        currentDirection = (currentDirection + 1) % 4\n",
    "    else:\n",
    "        currentDirection = (currentDirection - 1) % 4\n",
    "\n",
    "    for _ in range(int(dir[1:])):\n",
    "        coords[0] += directions[currentDirection][0]\n",
    "        coords[1] += directions[currentDirection][1]\n",
    "        \n",
    "        if tuple(coords) in visitedCoords:\n",
    "            print(sum(map(abs, coords)))\n",
    "            coordFound = True\n",
    "            break\n",
    "        else:\n",
    "            visitedCoords.add(tuple(coords))\n",
    "\n",
    "    if coordFound:\n",
    "        break"
   ]
  }
 ],
 "metadata": {
  "kernelspec": {
   "display_name": "Python 3",
   "language": "python",
   "name": "python3"
  },
  "language_info": {
   "codemirror_mode": {
    "name": "ipython",
    "version": 3
   },
   "file_extension": ".py",
   "mimetype": "text/x-python",
   "name": "python",
   "nbconvert_exporter": "python",
   "pygments_lexer": "ipython3",
   "version": "3.13.5"
  }
 },
 "nbformat": 4,
 "nbformat_minor": 5
}
